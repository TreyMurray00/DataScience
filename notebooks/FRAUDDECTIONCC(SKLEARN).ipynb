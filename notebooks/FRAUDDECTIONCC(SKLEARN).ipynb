{
 "cells": [
  {
   "metadata": {},
   "cell_type": "raw",
   "source": "",
   "id": "c589d252680efcab"
  },
  {
   "metadata": {},
   "cell_type": "markdown",
   "source": [
    "<H1> Credit Card Fraud Detection With SciKit-Learn <H1>\n",
    "source: https://www.kaggle.com/datasets/nelgiriyewithana/credit-card-fraud-detection-dataset-2023"
   ],
   "id": "263b12137af857d0"
  },
  {
   "metadata": {},
   "cell_type": "code",
   "source": [
    "import numpy as np\n",
    "import pandas as pd\n",
    "from sklearn.model_selection import train_test_split\n",
    "from sklearn.linear_model import LogisticRegression\n",
    "from sklearn import metrics\n",
    "from scipy import stats"
   ],
   "id": "d7ee238e9b106f23",
   "outputs": [],
   "execution_count": null
  },
  {
   "metadata": {},
   "cell_type": "code",
   "source": "dataset = pd.read_csv('creditcard_2023.csv')",
   "id": "5bfb7b04d5e1208e",
   "outputs": [],
   "execution_count": null
  },
  {
   "metadata": {},
   "cell_type": "code",
   "source": [
    "dataset.dropna(inplace=True)\n",
    "dataset.drop_duplicates()\n",
    "dataset.reset_index(drop=True, inplace=True)"
   ],
   "id": "bb2f95c1d0b703b7",
   "outputs": [],
   "execution_count": null
  },
  {
   "metadata": {},
   "cell_type": "code",
   "source": "dataset.drop(['id'], axis=1)",
   "id": "de75c384e40e4935",
   "outputs": [],
   "execution_count": null
  },
  {
   "metadata": {},
   "cell_type": "code",
   "source": "features = dataset.drop(['Class'], axis=1)",
   "id": "8af35dde137ecffa",
   "outputs": [],
   "execution_count": null
  },
  {
   "metadata": {},
   "cell_type": "code",
   "source": [
    "# Labels = dataset['Class']\n",
    "features"
   ],
   "id": "fc59ade06bd365e2",
   "outputs": [],
   "execution_count": null
  },
  {
   "metadata": {},
   "cell_type": "code",
   "source": "Labels  = dataset[\"Class\"]",
   "id": "9c0eb63d5a696f57",
   "outputs": [],
   "execution_count": null
  },
  {
   "metadata": {},
   "cell_type": "code",
   "source": "Labels",
   "id": "c7f1ee0634190ca7",
   "outputs": [],
   "execution_count": null
  },
  {
   "metadata": {},
   "cell_type": "code",
   "source": [
    "features = (features - features.mean()) / features.std()\n",
    "X_Train, X_Test, Y_Train, Y_Test = train_test_split(features, Labels, test_size=0.3, random_state=20)"
   ],
   "id": "983c2a83571c8dba",
   "outputs": [],
   "execution_count": null
  },
  {
   "metadata": {},
   "cell_type": "code",
   "source": [
    "model = LogisticRegression(random_state=40)\n",
    "model.fit(X_Train, Y_Train,)"
   ],
   "id": "84ad1d5c7c401b6c",
   "outputs": [],
   "execution_count": null
  },
  {
   "metadata": {
    "ExecuteTime": {
     "end_time": "2024-06-28T17:59:11.874156Z",
     "start_time": "2024-06-28T17:59:11.726940Z"
    }
   },
   "cell_type": "code",
   "source": "accuracy = metrics.accuracy_score(Y_Train, model.predict(X_Train))",
   "id": "38fc4b8f7fe66ac3",
   "outputs": [],
   "execution_count": 53
  },
  {
   "metadata": {
    "ExecuteTime": {
     "end_time": "2024-06-28T17:59:13.633518Z",
     "start_time": "2024-06-28T17:59:13.625881Z"
    }
   },
   "cell_type": "code",
   "source": "accuracy",
   "id": "79edd374b60f7aaf",
   "outputs": [
    {
     "data": {
      "text/plain": [
       "0.9983443916581458"
      ]
     },
     "execution_count": 54,
     "metadata": {},
     "output_type": "execute_result"
    }
   ],
   "execution_count": 54
  },
  {
   "metadata": {
    "ExecuteTime": {
     "end_time": "2024-06-28T17:51:45.800650Z",
     "start_time": "2024-06-28T17:51:45.702083Z"
    }
   },
   "cell_type": "code",
   "source": [
    "F1 = metrics.f1_score(Y_Test, model.predict(X_Test), average='macro')\n",
    "F1"
   ],
   "id": "b54e492fea970323",
   "outputs": [
    {
     "data": {
      "text/plain": [
       "0.9985168849747694"
      ]
     },
     "execution_count": 49,
     "metadata": {},
     "output_type": "execute_result"
    }
   ],
   "execution_count": 49
  },
  {
   "metadata": {
    "ExecuteTime": {
     "end_time": "2024-06-28T17:51:41.973350Z",
     "start_time": "2024-06-28T17:51:41.919983Z"
    }
   },
   "cell_type": "code",
   "source": [
    "MSE = metrics.mean_squared_error(Y_Test, model.predict(X_Test))\n",
    "MSE"
   ],
   "id": "abc5c2de74c1be01",
   "outputs": [
    {
     "data": {
      "text/plain": [
       "0.001483096799910897"
      ]
     },
     "execution_count": 48,
     "metadata": {},
     "output_type": "execute_result"
    }
   ],
   "execution_count": 48
  },
  {
   "metadata": {},
   "cell_type": "code",
   "source": "z_scores = stats.zscore(dataset)",
   "id": "8b140cd93a9450fc",
   "outputs": [],
   "execution_count": null
  },
  {
   "metadata": {},
   "cell_type": "code",
   "source": "z_scores",
   "id": "45a42ab5e00f95a8",
   "outputs": [],
   "execution_count": null
  },
  {
   "metadata": {},
   "cell_type": "code",
   "source": [
    "outliers = (z_scores > 3) | (z_scores < -3)\n",
    "outliers"
   ],
   "id": "7414ed0f70aac1a3",
   "outputs": [],
   "execution_count": null
  },
  {
   "metadata": {
    "ExecuteTime": {
     "end_time": "2024-06-28T17:30:07.336721Z",
     "start_time": "2024-06-28T17:30:07.318922Z"
    }
   },
   "cell_type": "code",
   "source": "outliers.value_counts(\"Amount\")",
   "id": "644f48ef30e366e1",
   "outputs": [
    {
     "data": {
      "text/plain": [
       "Amount\n",
       "False    568630\n",
       "Name: count, dtype: int64"
      ]
     },
     "execution_count": 47,
     "metadata": {},
     "output_type": "execute_result"
    }
   ],
   "execution_count": 47
  },
  {
   "metadata": {},
   "cell_type": "markdown",
   "source": "The chosen model is a binary classification models as the goal of it is to determine if a credit card transaction is fraudulent. The method to chosen is logistic regression. ",
   "id": "acc0b48f15646e56"
  }
 ],
 "metadata": {
  "kernelspec": {
   "display_name": "Python 3",
   "language": "python",
   "name": "python3"
  },
  "language_info": {
   "codemirror_mode": {
    "name": "ipython",
    "version": 2
   },
   "file_extension": ".py",
   "mimetype": "text/x-python",
   "name": "python",
   "nbconvert_exporter": "python",
   "pygments_lexer": "ipython2",
   "version": "2.7.6"
  }
 },
 "nbformat": 4,
 "nbformat_minor": 5
}
